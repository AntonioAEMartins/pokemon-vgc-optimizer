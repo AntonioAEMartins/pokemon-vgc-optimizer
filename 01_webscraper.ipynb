{
 "cells": [
  {
   "cell_type": "code",
   "execution_count": null,
   "metadata": {},
   "outputs": [],
   "source": [
    "from selenium import webdriver\n",
    "from selenium.webdriver.common.by import By\n",
    "from selenium.webdriver.chrome.options import Options\n",
    "import os"
   ]
  },
  {
   "cell_type": "raw",
   "metadata": {},
   "source": [
    "# instance of Options class allows us to configure Headless Chrome\n",
    "options = Options()\n",
    "options.add_argument(\"--headless\")\n",
    "options.add_argument(\"--start-maximized\")\n",
    "options.add_argument(\"--disable-extensions\")\n",
    "options.add_argument(\"--disable-infobars\")\n",
    "options.add_argument('--window-size=1920,1080')\n",
    "options.add_argument('--no-sandbox')"
   ]
  },
  {
   "cell_type": "code",
   "execution_count": null,
   "metadata": {},
   "outputs": [],
   "source": [
    "PATH_LINKS = 'data/input/links.txt' # Path to the file with the links to the pokemon pages\n",
    "PATH_TMP_LINKS = 'data/tmp/links_left_to_scrape.txt'\n",
    "\n",
    "# Check if the file 'links_left_to_scrape.txt' exists\n",
    "# If not, create it from the file 'links.txt'\n",
    "if not os.path.exists(PATH_TMP_LINKS):\n",
    "    with open(PATH_LINKS, 'r') as f:\n",
    "        for line in f:\n",
    "            with open(PATH_TMP_LINKS, 'a') as f2:\n",
    "                f2.write(line)\n",
    "\n",
    "URLS = []\n",
    "\n",
    "# Read the links from the file 'links_left_to_scrape.txt'\n",
    "with open(PATH_TMP_LINKS, 'r') as f:\n",
    "    for line in f:\n",
    "        URLS.append(line.replace('\\n','').strip())"
   ]
  },
  {
   "cell_type": "code",
   "execution_count": null,
   "metadata": {},
   "outputs": [],
   "source": [
    "def erase_file(filepath, URL):\n",
    "    # Erase the link from the input file\n",
    "    with open(filepath, 'r') as f:\n",
    "        lines = f.readlines()\n",
    "    with open(filepath, 'w') as f:\n",
    "        for line in lines:\n",
    "            if line.strip('\\n') != URL:\n",
    "                f.write(line)"
   ]
  },
  {
   "cell_type": "code",
   "execution_count": null,
   "metadata": {},
   "outputs": [],
   "source": [
    "def get_data_from_webpage(URL, driver):\n",
    "    driver.get(URL)\n",
    "    webpage_name = URL.split('/')[-1].split('.')[0]\n",
    "    print(f'Getting data from {webpage_name}...')\n",
    "\n",
    "    with open(f'data/output/{webpage_name}.txt', 'w') as f:\n",
    "        f.write('')\n",
    "    \n",
    "\n",
    "    e_rows = None\n",
    "    if webpage_name == 'transferonly':\n",
    "        e_rows = driver.find_elements(By.XPATH, f'/html/body/div/div[2]/main/table[1]/tbody/tr/td[2]/a')\n",
    "    else:\n",
    "        e_rows = driver.find_elements(By.XPATH, f'/html/body/div/div[2]/main/table[2]/tbody/tr/td[3]/a')\n",
    "    \n",
    "\n",
    "    for e_row in e_rows:\n",
    "        name = e_row.text\n",
    "        print(name)\n",
    "\n",
    "        with open(f'data/output/{webpage_name}.txt', 'a') as f:\n",
    "            f.write(f'{name}\\n')\n",
    "\n",
    "\n",
    "    erase_file(PATH_TMP_LINKS, URL)"
   ]
  },
  {
   "cell_type": "code",
   "execution_count": null,
   "metadata": {},
   "outputs": [],
   "source": [
    "driver = webdriver.Chrome()\n",
    "for URL in URLS:\n",
    "    get_data_from_webpage(URL, driver)\n",
    "driver.quit()"
   ]
  },
  {
   "cell_type": "code",
   "execution_count": null,
   "metadata": {},
   "outputs": [],
   "source": [
    "# Delete the file 'links_left_to_scrape.txt'\n",
    "os.remove(PATH_TMP_LINKS)"
   ]
  },
  {
   "cell_type": "code",
   "execution_count": null,
   "metadata": {},
   "outputs": [],
   "source": []
  }
 ],
 "metadata": {
  "kernelspec": {
   "display_name": "venv",
   "language": "python",
   "name": "python3"
  },
  "language_info": {
   "codemirror_mode": {
    "name": "ipython",
    "version": 3
   },
   "file_extension": ".py",
   "mimetype": "text/x-python",
   "name": "python",
   "nbconvert_exporter": "python",
   "pygments_lexer": "ipython3",
   "version": "3.12.0"
  }
 },
 "nbformat": 4,
 "nbformat_minor": 2
}
