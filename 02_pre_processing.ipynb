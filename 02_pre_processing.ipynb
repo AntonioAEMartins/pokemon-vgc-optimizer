{
 "cells": [
  {
   "cell_type": "code",
   "execution_count": 3,
   "metadata": {},
   "outputs": [],
   "source": [
    "from tensorflow import keras\n",
    "import pandas as pd\n",
    "from sklearn.model_selection import train_test_split"
   ]
  },
  {
   "cell_type": "code",
   "execution_count": 4,
   "metadata": {},
   "outputs": [
    {
     "data": {
      "text/html": [
       "<div>\n",
       "<style scoped>\n",
       "    .dataframe tbody tr th:only-of-type {\n",
       "        vertical-align: middle;\n",
       "    }\n",
       "\n",
       "    .dataframe tbody tr th {\n",
       "        vertical-align: top;\n",
       "    }\n",
       "\n",
       "    .dataframe thead th {\n",
       "        text-align: right;\n",
       "    }\n",
       "</style>\n",
       "<table border=\"1\" class=\"dataframe\">\n",
       "  <thead>\n",
       "    <tr style=\"text-align: right;\">\n",
       "      <th></th>\n",
       "      <th>winner</th>\n",
       "      <th>pokemon1_p1</th>\n",
       "      <th>pokemon2_p1</th>\n",
       "      <th>pokemon3_p1</th>\n",
       "      <th>pokemon4_p1</th>\n",
       "      <th>pokemon5_p1</th>\n",
       "      <th>pokemon6_p1</th>\n",
       "      <th>pokemon1_p2</th>\n",
       "      <th>pokemon2_p2</th>\n",
       "      <th>pokemon3_p2</th>\n",
       "      <th>pokemon4_p2</th>\n",
       "      <th>pokemon5_p2</th>\n",
       "      <th>pokemon6_p2</th>\n",
       "    </tr>\n",
       "  </thead>\n",
       "  <tbody>\n",
       "    <tr>\n",
       "      <th>0</th>\n",
       "      <td>1</td>\n",
       "      <td>Dondozo</td>\n",
       "      <td>Tatsugiri</td>\n",
       "      <td>Ogerpon</td>\n",
       "      <td>Iron Hands</td>\n",
       "      <td>Ninetales</td>\n",
       "      <td>Glimmora</td>\n",
       "      <td>Weezing</td>\n",
       "      <td>Landorus</td>\n",
       "      <td>Ogerpon</td>\n",
       "      <td>Heatran</td>\n",
       "      <td>Rillaboom</td>\n",
       "      <td>Iron Hands</td>\n",
       "    </tr>\n",
       "    <tr>\n",
       "      <th>1</th>\n",
       "      <td>1</td>\n",
       "      <td>Tornadus</td>\n",
       "      <td>Sinistcha</td>\n",
       "      <td>Basculegion</td>\n",
       "      <td>Iron Hands</td>\n",
       "      <td>Arcanine</td>\n",
       "      <td>Ninetales</td>\n",
       "      <td>Tornadus</td>\n",
       "      <td>Arcanine</td>\n",
       "      <td>Gastrodon</td>\n",
       "      <td>Rillaboom</td>\n",
       "      <td>Chi</td>\n",
       "      <td>Iron Valiant</td>\n",
       "    </tr>\n",
       "    <tr>\n",
       "      <th>2</th>\n",
       "      <td>2</td>\n",
       "      <td>Urshifu</td>\n",
       "      <td>Landorus</td>\n",
       "      <td>Ogerpon</td>\n",
       "      <td>Thundurus</td>\n",
       "      <td>Rillaboom</td>\n",
       "      <td>Kingambit</td>\n",
       "      <td>Armarouge</td>\n",
       "      <td>Indeedee</td>\n",
       "      <td>Torkoal</td>\n",
       "      <td>Ursaluna</td>\n",
       "      <td>Gallade</td>\n",
       "      <td>Urshifu</td>\n",
       "    </tr>\n",
       "    <tr>\n",
       "      <th>3</th>\n",
       "      <td>2</td>\n",
       "      <td>Gholdengo</td>\n",
       "      <td>Roaring Moon</td>\n",
       "      <td>Rillaboom</td>\n",
       "      <td>Arcanine</td>\n",
       "      <td>Urshifu</td>\n",
       "      <td>Kingambit</td>\n",
       "      <td>Ogerpon</td>\n",
       "      <td>Dondozo</td>\n",
       "      <td>Tatsugiri</td>\n",
       "      <td>Flutter Mane</td>\n",
       "      <td>Glimmora</td>\n",
       "      <td>Urshifu</td>\n",
       "    </tr>\n",
       "    <tr>\n",
       "      <th>4</th>\n",
       "      <td>1</td>\n",
       "      <td>Dondozo</td>\n",
       "      <td>Tatsugiri</td>\n",
       "      <td>Rillaboom</td>\n",
       "      <td>Volcarona</td>\n",
       "      <td>Kingambit</td>\n",
       "      <td>Scizor</td>\n",
       "      <td>Arcanine</td>\n",
       "      <td>Rillaboom</td>\n",
       "      <td>Tornadus</td>\n",
       "      <td>Flutter Mane</td>\n",
       "      <td>Urshifu</td>\n",
       "      <td>Chien</td>\n",
       "    </tr>\n",
       "  </tbody>\n",
       "</table>\n",
       "</div>"
      ],
      "text/plain": [
       "   winner pokemon1_p1   pokemon2_p1  pokemon3_p1 pokemon4_p1 pokemon5_p1  \\\n",
       "0       1     Dondozo     Tatsugiri      Ogerpon  Iron Hands   Ninetales   \n",
       "1       1    Tornadus     Sinistcha  Basculegion  Iron Hands    Arcanine   \n",
       "2       2     Urshifu      Landorus      Ogerpon   Thundurus   Rillaboom   \n",
       "3       2   Gholdengo  Roaring Moon    Rillaboom    Arcanine     Urshifu   \n",
       "4       1     Dondozo     Tatsugiri    Rillaboom   Volcarona   Kingambit   \n",
       "\n",
       "  pokemon6_p1 pokemon1_p2 pokemon2_p2 pokemon3_p2   pokemon4_p2 pokemon5_p2  \\\n",
       "0    Glimmora     Weezing    Landorus     Ogerpon       Heatran   Rillaboom   \n",
       "1   Ninetales    Tornadus    Arcanine   Gastrodon     Rillaboom         Chi   \n",
       "2   Kingambit   Armarouge    Indeedee     Torkoal      Ursaluna     Gallade   \n",
       "3   Kingambit     Ogerpon     Dondozo   Tatsugiri  Flutter Mane    Glimmora   \n",
       "4      Scizor    Arcanine   Rillaboom    Tornadus  Flutter Mane     Urshifu   \n",
       "\n",
       "    pokemon6_p2  \n",
       "0    Iron Hands  \n",
       "1  Iron Valiant  \n",
       "2       Urshifu  \n",
       "3       Urshifu  \n",
       "4         Chien  "
      ]
     },
     "execution_count": 4,
     "metadata": {},
     "output_type": "execute_result"
    }
   ],
   "source": [
    "data = pd.read_csv('data/output/matches.csv')\n",
    "data.head()"
   ]
  },
  {
   "cell_type": "code",
   "execution_count": 9,
   "metadata": {},
   "outputs": [
    {
     "name": "stdout",
     "output_type": "stream",
     "text": [
      "Vocabulary size: 392\n",
      "Vocabulary: ['Landorus', 'Furret', 'Gligar', 'Honchkrow', 'Sneasel', 'Drizzile', 'Altaria', 'Jolteon', 'Kricketune', 'Meowscarada', 'Munkidori', 'Yanmega', 'Maushold', 'Dragapult', 'Sableye', 'Jigglypuff', 'Flittle', 'Cresselia', 'Chimecho', 'Geodude', 'Impidimp', 'Appletun', 'Kingambit', 'Stantler', 'Spectrier', 'Sinistcha', 'Zangoose', 'Gastrodon', 'Sudowoodo', 'Decidueye', 'Gallade', 'Volcarona', 'Floatzel', 'Garchomp', 'Bisharp', 'Enamorus', 'Skiploom', 'Leavanny', 'Swablu', 'Noctowl', 'Primeape', 'Grimer', 'Luvdisc', 'Lurantis', 'Falinks', 'Palossand', 'Graveler', 'Kommo', 'Crocalor', 'Thundurus', 'Grimmsnarl', 'Lokix', 'Toxapex', 'Donphan', 'Toedscruel', 'Toxtricity', 'Blissey', 'Riolu', 'Pawniard', 'Arbok', 'Foongus', 'Pincurchin', 'Pyroar', 'Persian', 'Annihilape', 'Torterra', 'Salamence', 'Sliggoo', 'Houndoom', 'Okidogi', 'Iron Thorns', 'Skeledirge', 'Brambleghast', 'Oranguru', 'Urshifu', 'Oricorio', 'Drifblim', 'Raboot', 'Azumarill', 'Mienfoo', 'Gyarados', 'Lucario', 'Meditite', 'Arboliva', 'Flapple', 'Chi', 'Infernape', 'Baxcalibur', 'Alomomola', 'Whiscash', 'Froslass', 'Farigiraf', 'Fletchinder', 'Hoothoot', 'Mesprit', 'Hariyama', 'Hydreigon', 'Corviknight', 'Inteleon', 'Dusknoir', 'Ting', 'Poltchageist', 'Spinarak', 'Piloswine', 'Haxorus', 'Camerupt', 'Numel', 'Sawsbuck', 'Ampharos', 'Charmander', 'Wooper', 'Goodra', 'Flutter Mane', 'Bombirdier', 'Sunflora', 'Muk', 'Amoonguss', 'Torkoal', 'Tauros', 'Pichu', 'Fezandipiti', 'Glaceon', 'Kilowattrel', 'Scovillain', 'Armarouge', 'Quaxly', 'Jumpluff', 'Iron Treads', 'Copperajah', 'Grumpig', 'Feebas', 'Skuntank', 'Gothorita', 'Espeon', 'Tropius', 'Cacturne', 'Mismagius', 'Greedent', 'Flaaffy', 'Iron Jugulis', 'Articuno', 'Wyrdeer', 'Hawlucha', 'Spidops', 'Sneasler', 'Indeedee', 'Delibird', 'Barraskewda', 'Qwilfish', 'Victreebel', 'Mareep', 'Hatterene', 'Basculin', 'Dudunsparce', 'Mudsdale', 'Snorlax', 'Slither Wing', 'Overqwil', 'Venomoth', 'Chansey', 'Shiftry', 'Mabosstiff', 'Crawdaunt', 'Dratini', 'Fuecoco', 'Clefairy', 'Brute Bonnet', 'Salazzle', 'Frosmoth', 'Dragalge', 'Eevee', 'Houndstone', 'Mienshao', 'Coalossal', 'Clawitzer', 'Glastrier', 'Staraptor', 'Kleavor', 'Snom', 'Squawkabilly', 'Cryogonal', 'Morpeko', 'Crabominable', 'Sandaconda', 'Sylveon', 'Klefki', 'Braviary', 'Great Tusk', 'Gardevoir', 'Hypno', 'Azelf', 'Lycanroc', 'Mimikyu', 'Cetitan', 'Psyduck', 'Iron Hands', 'Staravia', 'Forretress', 'Scyther', 'Chandelure', 'Golduck', 'Chien', 'Tinkaton', 'Ogerpon', 'Milotic', 'Clodsire', 'Rowlet', 'Luxray', 'Cyclizar', 'Heatran', 'Pachirisu', 'Slowpoke', 'Oinkologne', 'Venonat', 'Slowking', 'Hippowdon', 'Piplup', 'Glimmet', 'Walking Wake', 'Gothitelle', 'Chewtle', 'Cramorant', 'Ambipom', 'Klawf', 'Orthworm', 'Krookodile', 'Ceruledge', 'Drakloak', 'Happiny', 'Wugtrio', 'Swalot', 'Noivern', 'Vulpix', 'Polteageist', 'Dedenne', 'Gengar', 'Cloyster', 'Probopass', 'Banette', 'Veluza', 'Vaporeon', 'Mamoswine', 'Trevenant', 'Sandy Shocks', 'Lilligant', 'Charjabug', 'Glalie', 'Rabsca', 'Uxie', 'Eelektross', 'Lumineon', 'Bruxish', 'Toxicroak', 'Tsareena', 'Weezing', 'Vespiquen', 'Poliwrath', 'Weavile', 'Mandibuzz', 'Braixen', 'Umbreon', 'Garganacl', 'Tornadus', 'Dondozo', 'Politoed', 'Rillaboom', 'Ludicolo', 'Ursaluna', 'Tyranitar', 'Toedscool', 'Golem', 'Dragonair', 'Quagsire', 'Grotle', 'Bellsprout', 'Zoroark', 'Vikavolt', 'Yanma', 'Seviper', 'Abomasnow', 'Clefable', 'Hakamo', 'Sandslash', 'Morgrem', 'Pawmot', 'Grookey', 'Dunsparce', 'Espathra', 'Zapdos', 'Medicham', 'Dipplin', 'Drednaw', 'Gholdengo', 'Koffing', 'Aipom', 'Flareon', 'Poliwhirl', 'Diglett', 'Dachsbun', 'Azurill', 'Iron Valiant', 'Magnezone', 'Gliscor', 'Bronzor', 'Samurott', 'Vivillon', 'Conkeldurr', 'Avalugg', 'Iron Moth', 'Revavroom', 'Iron Bundle', 'Magcargo', 'Wigglytuff', 'Cinderace', 'Talonflame', 'Delphox', 'Electrode', 'Scizor', 'Raichu', 'Beartic', 'Volbeat', 'Murkrow', 'Greninja', 'Duskull', 'Monferno', 'Chesnaught', 'Cleffa', 'Breloom', 'Dragonite', 'Slugma', 'Ribombee', 'Eiscue', 'Dusclops', 'Mightyena', 'Bellibolt', 'Illumise', 'Arcanine', 'Gogoat', 'Thwackey', 'Passimian', 'Slowbro', 'Pikachu', 'Moltres', 'Magneton', 'Masquerain', 'Lechonk', 'Haunter', 'Grafaiai', 'Gabite', 'Glimmora', 'Slaking', 'Greavard', 'Quaquaval', 'Munchlax', 'Heracross', 'Bronzong', 'Empoleon', 'Shroomish', 'Ninetales', 'Sentret', 'Typhlosion', 'Scream Tail', 'Ursaring', 'Palafin', 'Ariados', 'Wo', 'Naclstack', 'Tandemaus', 'Ditto', 'Leafeon', 'Rotom', 'Dugtrio', 'Pelipper', 'Regidrago', 'Misdreavus', 'Stonjourner', 'Perrserker', 'Hattrem', 'Drifloon', 'Carbink', 'Makuhita', 'Basculegion', 'Florges', 'Spiritomb', 'Roaring Moon', 'Tatsugiri', 'Growlithe', 'Gurdurr', 'Regieleki', 'Charizard', 'Flamigo', 'Axew']\n"
     ]
    }
   ],
   "source": [
    "vocabulary = set()\n",
    "\n",
    "for col in data.columns:\n",
    "    for value in data[col]:\n",
    "        if isinstance(value, str):\n",
    "            vocabulary.add(value)\n",
    "vocabulary = list(vocabulary)\n",
    "print('Vocabulary size:', len(vocabulary))\n",
    "print('Vocabulary:', vocabulary)"
   ]
  },
  {
   "cell_type": "code",
   "execution_count": 10,
   "metadata": {},
   "outputs": [],
   "source": [
    "train, test = train_test_split(data, test_size=0.2, random_state=42)"
   ]
  },
  {
   "cell_type": "code",
   "execution_count": 11,
   "metadata": {},
   "outputs": [],
   "source": [
    "X_train = train.drop(columns=['winner'])\n",
    "y_train = train['winner']\n",
    "\n",
    "X_test = test.drop(columns=['winner'])\n",
    "y_test = test['winner']"
   ]
  },
  {
   "cell_type": "code",
   "execution_count": 71,
   "metadata": {},
   "outputs": [],
   "source": [
    "judge = keras.Sequential([\n",
    "    keras.layers.StringLookup(vocabulary=vocabulary, mask_token=None),\n",
    "    keras.layers.Embedding(input_dim=len(vocabulary) + 1, output_dim=16, input_length=6),\n",
    "    keras.layers.GlobalAveragePooling1D(),\n",
    "    keras.layers.Dense(16, activation='relu'),\n",
    "    keras.layers.Dense(1)\n",
    "])\n",
    "\n",
    "t1 = keras.Input(shape=(6,), dtype='string')\n",
    "t2 = keras.Input(shape=(6,), dtype='string')\n",
    "\n",
    "s1 = judge(t1)\n",
    "s2 = judge(t2)\n",
    "\n",
    "d = keras.layers.Subtract()([s1, s2])\n",
    "d = keras.layers.Activation('sigmoid')(d)\n",
    "\n",
    "model = keras.Model(inputs=[t1, t2], outputs=d)"
   ]
  },
  {
   "cell_type": "code",
   "execution_count": 72,
   "metadata": {},
   "outputs": [],
   "source": [
    "model.compile(\n",
    "    optimizer='adam',\n",
    "    loss=keras.losses.BinaryCrossentropy(from_logits=True),\n",
    "    metrics=['accuracy']\n",
    ")"
   ]
  },
  {
   "cell_type": "code",
   "execution_count": 73,
   "metadata": {},
   "outputs": [],
   "source": [
    "X_train_p1 = X_train[['pokemon1_p1', 'pokemon2_p1', 'pokemon3_p1', 'pokemon4_p1', 'pokemon5_p1', 'pokemon6_p1']].to_numpy()\n",
    "X_train_p2 = X_train[['pokemon1_p2', 'pokemon2_p2', 'pokemon3_p2', 'pokemon4_p2', 'pokemon5_p2', 'pokemon6_p2']].to_numpy()"
   ]
  },
  {
   "cell_type": "code",
   "execution_count": 74,
   "metadata": {},
   "outputs": [
    {
     "name": "stdout",
     "output_type": "stream",
     "text": [
      "Model: \"model_10\"\n",
      "__________________________________________________________________________________________________\n",
      " Layer (type)                Output Shape                 Param #   Connected to                  \n",
      "==================================================================================================\n",
      " input_21 (InputLayer)       [(None, 6)]                  0         []                            \n",
      "                                                                                                  \n",
      " input_22 (InputLayer)       [(None, 6)]                  0         []                            \n",
      "                                                                                                  \n",
      " sequential_10 (Sequential)  (None, 1)                    6577      ['input_21[0][0]',            \n",
      "                                                                     'input_22[0][0]']            \n",
      "                                                                                                  \n",
      " subtract_10 (Subtract)      (None, 1)                    0         ['sequential_10[0][0]',       \n",
      "                                                                     'sequential_10[1][0]']       \n",
      "                                                                                                  \n",
      " activation_10 (Activation)  (None, 1)                    0         ['subtract_10[0][0]']         \n",
      "                                                                                                  \n",
      "==================================================================================================\n",
      "Total params: 6577 (25.69 KB)\n",
      "Trainable params: 6577 (25.69 KB)\n",
      "Non-trainable params: 0 (0.00 Byte)\n",
      "__________________________________________________________________________________________________\n"
     ]
    }
   ],
   "source": [
    "model.summary()"
   ]
  },
  {
   "cell_type": "code",
   "execution_count": 75,
   "metadata": {},
   "outputs": [
    {
     "name": "stdout",
     "output_type": "stream",
     "text": [
      "Epoch 1/30\n"
     ]
    },
    {
     "name": "stderr",
     "output_type": "stream",
     "text": [
      "/Users/enriccogemha/Developer/Pokemon-VGC-Team-Builder/venv/lib/python3.10/site-packages/keras/src/backend.py:5818: UserWarning: \"`binary_crossentropy` received `from_logits=True`, but the `output` argument was produced by a Sigmoid activation and thus does not represent logits. Was this intended?\n",
      "  output, from_logits = _get_logits(\n"
     ]
    },
    {
     "name": "stdout",
     "output_type": "stream",
     "text": [
      "2877/2877 - 3s - loss: 0.6886 - accuracy: 0.2361 - 3s/epoch - 1ms/step\n",
      "Epoch 2/30\n",
      "2877/2877 - 3s - loss: 0.6596 - accuracy: 0.2347 - 3s/epoch - 1ms/step\n",
      "Epoch 3/30\n",
      "2877/2877 - 3s - loss: 0.6365 - accuracy: 0.2348 - 3s/epoch - 972us/step\n",
      "Epoch 4/30\n",
      "2877/2877 - 3s - loss: 0.6164 - accuracy: 0.2377 - 3s/epoch - 948us/step\n",
      "Epoch 5/30\n",
      "2877/2877 - 4s - loss: 0.5956 - accuracy: 0.2381 - 4s/epoch - 1ms/step\n",
      "Epoch 6/30\n",
      "2877/2877 - 3s - loss: 0.5748 - accuracy: 0.2391 - 3s/epoch - 1ms/step\n",
      "Epoch 7/30\n",
      "2877/2877 - 3s - loss: 0.5553 - accuracy: 0.2400 - 3s/epoch - 935us/step\n",
      "Epoch 8/30\n",
      "2877/2877 - 4s - loss: 0.5312 - accuracy: 0.2421 - 4s/epoch - 1ms/step\n",
      "Epoch 9/30\n",
      "2877/2877 - 3s - loss: 0.5101 - accuracy: 0.2430 - 3s/epoch - 983us/step\n",
      "Epoch 10/30\n",
      "2877/2877 - 3s - loss: 0.4805 - accuracy: 0.2438 - 3s/epoch - 990us/step\n",
      "Epoch 11/30\n",
      "2877/2877 - 3s - loss: 0.4476 - accuracy: 0.2465 - 3s/epoch - 990us/step\n",
      "Epoch 12/30\n",
      "2877/2877 - 3s - loss: 0.4102 - accuracy: 0.2467 - 3s/epoch - 1ms/step\n",
      "Epoch 13/30\n",
      "2877/2877 - 3s - loss: 0.3591 - accuracy: 0.2487 - 3s/epoch - 1ms/step\n",
      "Epoch 14/30\n",
      "2877/2877 - 3s - loss: 0.3053 - accuracy: 0.2476 - 3s/epoch - 977us/step\n",
      "Epoch 15/30\n",
      "2877/2877 - 3s - loss: 0.2393 - accuracy: 0.2516 - 3s/epoch - 1ms/step\n",
      "Epoch 16/30\n",
      "2877/2877 - 5s - loss: 0.1558 - accuracy: 0.2500 - 5s/epoch - 2ms/step\n",
      "Epoch 17/30\n",
      "2877/2877 - 3s - loss: 0.0372 - accuracy: 0.2507 - 3s/epoch - 1ms/step\n",
      "Epoch 18/30\n",
      "2877/2877 - 3s - loss: -9.5285e-02 - accuracy: 0.2526 - 3s/epoch - 931us/step\n",
      "Epoch 19/30\n",
      "2877/2877 - 3s - loss: -2.6838e-01 - accuracy: 0.2514 - 3s/epoch - 1ms/step\n",
      "Epoch 20/30\n",
      "2877/2877 - 4s - loss: -4.8756e-01 - accuracy: 0.2530 - 4s/epoch - 1ms/step\n",
      "Epoch 21/30\n",
      "2877/2877 - 3s - loss: -7.6435e-01 - accuracy: 0.2535 - 3s/epoch - 1ms/step\n",
      "Epoch 22/30\n",
      "2877/2877 - 3s - loss: -1.1178e+00 - accuracy: 0.2498 - 3s/epoch - 914us/step\n",
      "Epoch 23/30\n",
      "2877/2877 - 3s - loss: -1.5196e+00 - accuracy: 0.2546 - 3s/epoch - 969us/step\n",
      "Epoch 24/30\n",
      "2877/2877 - 3s - loss: -2.0390e+00 - accuracy: 0.2539 - 3s/epoch - 901us/step\n",
      "Epoch 25/30\n",
      "2877/2877 - 3s - loss: -2.6642e+00 - accuracy: 0.2526 - 3s/epoch - 922us/step\n",
      "Epoch 26/30\n",
      "2877/2877 - 4s - loss: -3.3499e+00 - accuracy: 0.2562 - 4s/epoch - 1ms/step\n",
      "Epoch 27/30\n",
      "2877/2877 - 3s - loss: -4.2243e+00 - accuracy: 0.2573 - 3s/epoch - 919us/step\n",
      "Epoch 28/30\n",
      "2877/2877 - 3s - loss: -5.2022e+00 - accuracy: 0.2514 - 3s/epoch - 877us/step\n",
      "Epoch 29/30\n",
      "2877/2877 - 3s - loss: -6.3669e+00 - accuracy: 0.2561 - 3s/epoch - 909us/step\n",
      "Epoch 30/30\n",
      "2877/2877 - 2s - loss: -7.6971e+00 - accuracy: 0.2552 - 2s/epoch - 862us/step\n"
     ]
    },
    {
     "data": {
      "text/plain": [
       "<keras.src.callbacks.History at 0x28f9a28c0>"
      ]
     },
     "execution_count": 75,
     "metadata": {},
     "output_type": "execute_result"
    }
   ],
   "source": [
    "model.fit([X_train_p1, X_train_p2], y_train, epochs=30, verbose=2, batch_size=4)"
   ]
  },
  {
   "cell_type": "code",
   "execution_count": 78,
   "metadata": {},
   "outputs": [
    {
     "name": "stdout",
     "output_type": "stream",
     "text": [
      "90/90 - 0s - loss: 11.8948 - accuracy: 0.2433 - 209ms/epoch - 2ms/step\n"
     ]
    },
    {
     "name": "stderr",
     "output_type": "stream",
     "text": [
      "/Users/enriccogemha/Developer/Pokemon-VGC-Team-Builder/venv/lib/python3.10/site-packages/keras/src/backend.py:5818: UserWarning: \"`binary_crossentropy` received `from_logits=True`, but the `output` argument was produced by a Sigmoid activation and thus does not represent logits. Was this intended?\n",
      "  output, from_logits = _get_logits(\n"
     ]
    },
    {
     "data": {
      "text/plain": [
       "[11.894848823547363, 0.24330900609493256]"
      ]
     },
     "execution_count": 78,
     "metadata": {},
     "output_type": "execute_result"
    }
   ],
   "source": [
    "X_test_p1 = X_test[['pokemon1_p1', 'pokemon2_p1', 'pokemon3_p1', 'pokemon4_p1', 'pokemon5_p1', 'pokemon6_p1']].to_numpy()\n",
    "X_test_p2 = X_test[['pokemon1_p2', 'pokemon2_p2', 'pokemon3_p2', 'pokemon4_p2', 'pokemon5_p2', 'pokemon6_p2']].to_numpy()\n",
    "\n",
    "model.evaluate([X_test_p1,X_test_p2], y_test, verbose=2)"
   ]
  },
  {
   "cell_type": "code",
   "execution_count": null,
   "metadata": {},
   "outputs": [],
   "source": []
  },
  {
   "cell_type": "code",
   "execution_count": null,
   "metadata": {},
   "outputs": [],
   "source": []
  }
 ],
 "metadata": {
  "kernelspec": {
   "display_name": "env",
   "language": "python",
   "name": "python3"
  },
  "language_info": {
   "codemirror_mode": {
    "name": "ipython",
    "version": 3
   },
   "file_extension": ".py",
   "mimetype": "text/x-python",
   "name": "python",
   "nbconvert_exporter": "python",
   "pygments_lexer": "ipython3",
   "version": "3.10.0"
  }
 },
 "nbformat": 4,
 "nbformat_minor": 2
}
