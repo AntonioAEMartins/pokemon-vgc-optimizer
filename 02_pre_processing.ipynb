{
 "cells": [
  {
   "attachments": {},
   "cell_type": "markdown",
   "metadata": {},
   "source": [
    "# Pokémon VGC Optimizer - Data Processing & Modeling\n",
    "\n",
    "**Team:** Antônio Martins, Enricco Gemha, Rafael Katri  \n",
    "**Course:** Machine Learning - Insper 2023.2  \n",
    "**Professor:** Fabio Ayres"
   ]
  },
  {
   "attachments": {},
   "cell_type": "markdown",
   "metadata": {},
   "source": [
    "## Project Overview\n",
    "\n",
    "This notebook implements a **neural judge** for Pokémon VGC battles and demonstrates genetic team optimization:\n",
    "\n",
    "1. **Battle Judge**: A neural network that takes two 6-Pokémon teams (as strings) and predicts which team wins\n",
    "2. **Genetic Optimizer**: Uses the trained judge as a fitness function to evolve optimal team compositions\n",
    "\n",
    "## Dataset: Pokémon Showdown Regulation E\n",
    "\n",
    "**Source**: [Pokémon Showdown](https://pokemonshowdown.com/) - competitive online battling platform  \n",
    "**Format**: [Regulation E](https://www.pokemon.com/us/strategy/top-new-pokemon-for-regulation-set-e-vgc-battles) (official VGC tournament ruleset)  \n",
    "**Collection**: Web scraper using Showdown's replay API (see `01_web_scraper.ipynb`)\n",
    "\n",
    "**Dataset structure** (`data/output/matches.csv`):\n",
    "- **~14,000 unique battles** from competitive play\n",
    "- **13 columns**: `winner` (1 or 2) + 12 team slots (`pokemon1_p1` through `pokemon6_p2`)\n",
    "- **Clean data**: Only complete 6v6 matches with clear winners\n",
    "\n",
    "This represents real competitive decisions from skilled players, providing a strong foundation for learning strategic team evaluation.\n"
   ]
  },
  {
   "attachments": {},
   "cell_type": "markdown",
   "metadata": {},
   "source": [
    "### Código\n",
    "\n",
    "#### Importando bibliotecas"
   ]
  },
  {
   "cell_type": "markdown",
   "metadata": {},
   "source": [
    "Building a vocabulary from all Pokémon names in the dataset. This vocabulary is used by `StringLookup` to convert string names to integer indices for the embedding layer, avoiding out-of-vocabulary issues during training.\n"
   ]
  },
  {
   "cell_type": "code",
   "execution_count": null,
   "metadata": {},
   "outputs": [
    {
     "ename": "",
     "evalue": "",
     "output_type": "error",
     "traceback": [
      "\u001b[1;31mRunning cells with 'Python 3.9.6' requires the ipykernel package.\n",
      "\u001b[1;31m<a href='command:jupyter.createPythonEnvAndSelectController'>Create a Python Environment</a> with the required packages.\n",
      "\u001b[1;31mOr install 'ipykernel' using the command: '/usr/bin/python3 -m pip install ipykernel -U --user --force-reinstall'"
     ]
    }
   ],
   "source": [
    "from tensorflow import keras\n",
    "import pandas as pd\n",
    "from sklearn.model_selection import train_test_split, StratifiedShuffleSplit\n",
    "import matplotlib.pyplot as plt"
   ]
  },
  {
   "cell_type": "code",
   "execution_count": null,
   "metadata": {},
   "outputs": [],
   "source": [
    "data = pd.read_csv('data/output/matches.csv')\n",
    "data.head()"
   ]
  },
  {
   "cell_type": "markdown",
   "metadata": {},
   "source": [
    "Creating a simple 80/20 train-test split. We'll compare this with a stratified version to see the impact of balanced label distribution on model performance.\n"
   ]
  },
  {
   "attachments": {},
   "cell_type": "markdown",
   "metadata": {},
   "source": [
    "#### Tamanho de Vocabulário"
   ]
  },
  {
   "cell_type": "code",
   "execution_count": null,
   "metadata": {},
   "outputs": [],
   "source": [
    "vocabulary = set()\n",
    "\n",
    "for col in data.columns:\n",
    "    for value in data[col]:\n",
    "        if isinstance(value, str):\n",
    "            vocabulary.add(value)\n",
    "vocabulary = list(vocabulary)\n",
    "print('Vocabulary size:', len(vocabulary))\n",
    "print('Vocabulary:', vocabulary)"
   ]
  },
  {
   "attachments": {},
   "cell_type": "markdown",
   "metadata": {},
   "source": [
    "#### Separando dados de treino e teste"
   ]
  },
  {
   "cell_type": "markdown",
   "metadata": {},
   "source": [
    "**Why stratification is important in VGC data:**\n",
    "\n",
    "In competitive Pokémon, certain team compositions or meta trends can create imbalanced winner distributions. Simple random splits might accidentally put most wins from dominant strategies in either train or test, leading to poor generalization. Stratified splitting ensures both sets have proportional `winner` labels (1 vs 2), making the comparison fair and improving model stability.\n",
    "\n",
    "This is especially critical given our limited dataset size (~14k matches) and the potential for temporal meta shifts in competitive play.\n"
   ]
  },
  {
   "cell_type": "code",
   "execution_count": null,
   "metadata": {},
   "outputs": [],
   "source": [
    "# Split data into train and test\n",
    "\n",
    "train, test = train_test_split(data, test_size=0.2, random_state=42)\n",
    "\n",
    "X_train = train.drop(columns=['winner'])\n",
    "y_train = train['winner'] - 1\n",
    "\n",
    "X_test = test.drop(columns=['winner'])\n",
    "y_test = test['winner'] - 1"
   ]
  },
  {
   "cell_type": "code",
   "execution_count": null,
   "metadata": {},
   "outputs": [],
   "source": [
    "X_train_p1 = X_train[['pokemon1_p1', 'pokemon2_p1', 'pokemon3_p1', 'pokemon4_p1', 'pokemon5_p1', 'pokemon6_p1']].to_numpy()\n",
    "X_train_p2 = X_train[['pokemon1_p2', 'pokemon2_p2', 'pokemon3_p2', 'pokemon4_p2', 'pokemon5_p2', 'pokemon6_p2']].to_numpy()"
   ]
  },
  {
   "cell_type": "markdown",
   "metadata": {},
   "source": [
    "Analyzing Pokémon usage patterns in the stratified dataset. This EDA helps identify:\n",
    "- **Meta dominance**: Which Pokémon appear most frequently (potential bias sources)\n",
    "- **Coverage**: Whether train/test splits maintain similar distributions\n",
    "- **Balance**: If certain Pokémon are heavily skewed toward one player position\n",
    "\n",
    "These insights inform modeling decisions like whether to apply class weights or data augmentation.\n"
   ]
  },
  {
   "cell_type": "code",
   "execution_count": null,
   "metadata": {},
   "outputs": [],
   "source": [
    "X_test_p1 = X_test[['pokemon1_p1', 'pokemon2_p1', 'pokemon3_p1', 'pokemon4_p1', 'pokemon5_p1', 'pokemon6_p1']].to_numpy()\n",
    "X_test_p2 = X_test[['pokemon1_p2', 'pokemon2_p2', 'pokemon3_p2', 'pokemon4_p2', 'pokemon5_p2', 'pokemon6_p2']].to_numpy()"
   ]
  },
  {
   "cell_type": "markdown",
   "metadata": {},
   "source": [
    "**Judge architecture rationale:**\n",
    "\n",
    "- **Shared weights**: Both teams use the same `judge` network, ensuring symmetric evaluation\n",
    "- **Embedding approach**: Maps Pokémon names to 256-dim vectors, letting the model learn strategic relationships\n",
    "- **GlobalAveragePooling**: Treats teams as sets (order-invariant), which matches VGC team selection\n",
    "- **Subtraction**: `s1 - s2` creates a single logit where positive = team1 favored, negative = team2 favored\n",
    "- **Regularization**: L2 + Dropout prevent overfitting to specific Pokémon combinations\n",
    "\n",
    "This design captures team synergy while remaining computationally efficient.\n"
   ]
  },
  {
   "attachments": {},
   "cell_type": "markdown",
   "metadata": {},
   "source": [
    "#### Stratificando os dados"
   ]
  },
  {
   "cell_type": "code",
   "execution_count": null,
   "metadata": {},
   "outputs": [],
   "source": [
    "# Combine Pokemon names from both teams in the entire dataset\n",
    "data[\"pokemon_team1\"] = data[[\"pokemon1_p1\", \"pokemon2_p1\", \"pokemon3_p1\", \"pokemon4_p1\", \"pokemon5_p1\", \"pokemon6_p1\"]].agg(','.join, axis=1)\n",
    "data[\"pokemon_team2\"] = data[[\"pokemon1_p2\", \"pokemon2_p2\", \"pokemon3_p2\", \"pokemon4_p2\", \"pokemon5_p2\", \"pokemon6_p2\"]].agg(','.join, axis=1)\n",
    "\n",
    "data[\"pokemon_teams\"] = data[[\"pokemon_team1\", \"pokemon_team2\"]].agg(','.join, axis=1)\n",
    "\n",
    "# Use StratifiedShuffleSplit on the entire dataset\n",
    "stratified_split = StratifiedShuffleSplit(n_splits=1, test_size=0.2, random_state=42)\n",
    "\n",
    "for train_index, test_index in stratified_split.split(data, data['winner']):\n",
    "    stratified_train_data, stratified_test_data = data.iloc[train_index], data.iloc[test_index]\n",
    "\n",
    "# Training set\n",
    "X_train_p1_stratified = stratified_train_data[['pokemon1_p1', 'pokemon2_p1', 'pokemon3_p1', 'pokemon4_p1', 'pokemon5_p1', 'pokemon6_p1']].to_numpy()\n",
    "X_train_p2_stratified = stratified_train_data[['pokemon1_p2', 'pokemon2_p2', 'pokemon3_p2', 'pokemon4_p2', 'pokemon5_p2', 'pokemon6_p2']].to_numpy()\n",
    "y_train_stratified = stratified_train_data['winner'] - 1\n",
    "\n",
    "# Testing set\n",
    "X_test_p1_stratified = stratified_test_data[['pokemon1_p1', 'pokemon2_p1', 'pokemon3_p1', 'pokemon4_p1', 'pokemon5_p1', 'pokemon6_p1']].to_numpy()\n",
    "X_test_p2_stratified = stratified_test_data[['pokemon1_p2', 'pokemon2_p2', 'pokemon3_p2', 'pokemon4_p2', 'pokemon5_p2', 'pokemon6_p2']].to_numpy()\n",
    "y_test_stratified = stratified_test_data['winner'] - 1"
   ]
  },
  {
   "cell_type": "code",
   "execution_count": null,
   "metadata": {},
   "outputs": [],
   "source": [
    "# Combine Pokemon names from both teams in the entire dataset\n",
    "all_pokemon_names_stratified = (\n",
    "    stratified_train_data['pokemon1_p1'] + ',' + stratified_train_data['pokemon2_p1'] + ',' +\n",
    "    stratified_train_data['pokemon3_p1'] + ',' + stratified_train_data['pokemon4_p1'] + ',' +\n",
    "    stratified_train_data['pokemon5_p1'] + ',' + stratified_train_data['pokemon6_p1'] + ',' +\n",
    "    stratified_train_data['pokemon1_p2'] + ',' + stratified_train_data['pokemon2_p2'] + ',' +\n",
    "    stratified_train_data['pokemon3_p2'] + ',' + stratified_train_data['pokemon4_p2'] + ',' +\n",
    "    stratified_train_data['pokemon5_p2'] + ',' + stratified_train_data['pokemon6_p2']\n",
    ").str.split(',')\n",
    "\n",
    "# Flatten the list of Pokemon names\n",
    "all_pokemon_flat_stratified = [pokemon for sublist in all_pokemon_names_stratified for pokemon in sublist]\n",
    "\n",
    "# Count the occurrences of each Pokemon\n",
    "pokemon_counts_stratified = pd.Series(all_pokemon_flat_stratified).value_counts()\n",
    "\n",
    "# Plot the distribution of all Pokemon appearances for stratified split\n",
    "plt.figure(figsize=(15, 6))\n",
    "pokemon_counts_stratified.plot(kind='bar')\n",
    "plt.title('Distribution of Pokemon Appearances in the Stratified Training Set')\n",
    "plt.xlabel('Pokemon')\n",
    "plt.ylabel('Number of Appearances')\n",
    "plt.xticks(fontsize=12.0)  # Rotate x-axis labels\n",
    "plt.show()\n",
    "\n",
    "# Select the top 20 Pokemon\n",
    "top_20_pokemon_stratified = pokemon_counts_stratified.head(20).index\n",
    "\n",
    "# Now, check the distribution in the training set for the top 20 Pokemon for stratified split\n",
    "train_pokemon_counts_p1_stratified = stratified_train_data[['pokemon1_p1', 'pokemon2_p1', 'pokemon3_p1', 'pokemon4_p1', 'pokemon5_p1', 'pokemon6_p1']].stack().value_counts()\n",
    "train_pokemon_counts_p2_stratified = stratified_train_data[['pokemon1_p2', 'pokemon2_p2', 'pokemon3_p2', 'pokemon4_p2', 'pokemon5_p2', 'pokemon6_p2']].stack().value_counts()\n",
    "\n",
    "# Plot the distribution in the training set for the top 20 Pokemon for stratified split\n",
    "plt.figure(figsize=(15, 6))\n",
    "train_pokemon_counts_p1_stratified.loc[top_20_pokemon_stratified].plot(kind='bar', color='blue', label='Team 1')\n",
    "train_pokemon_counts_p2_stratified.loc[top_20_pokemon_stratified].plot(kind='bar', color='orange', label='Team 2', alpha=0.7)\n",
    "plt.title('Distribution of Top 20 Pokemon Appearances in the Stratified Training Set')\n",
    "plt.xlabel('Pokemon')\n",
    "plt.ylabel('Number of Appearances')\n",
    "plt.xticks(fontsize=12.0)  # Rotate x-axis labels\n",
    "plt.legend()\n",
    "plt.show()\n",
    "\n",
    "# Check the distribution in the testing set for the top 20 Pokemon for stratified split\n",
    "test_pokemon_counts_p1_stratified = stratified_test_data[['pokemon1_p1', 'pokemon2_p1', 'pokemon3_p1', 'pokemon4_p1', 'pokemon5_p1', 'pokemon6_p1']].stack().value_counts()\n",
    "test_pokemon_counts_p2_stratified = stratified_test_data[['pokemon1_p2', 'pokemon2_p2', 'pokemon3_p2', 'pokemon4_p2', 'pokemon5_p2', 'pokemon6_p2']].stack().value_counts()\n",
    "\n",
    "# Plot the distribution in the testing set for the top 20 Pokemon for stratified split\n",
    "plt.figure(figsize=(15, 6))\n",
    "test_pokemon_counts_p1_stratified.loc[top_20_pokemon_stratified].plot(kind='bar', color='blue', label='Team 1')\n",
    "test_pokemon_counts_p2_stratified.loc[top_20_pokemon_stratified].plot(kind='bar', color='orange', label='Team 2', alpha=0.7)\n",
    "plt.title('Distribution of Top 20 Pokemon Appearances in the Stratified Testing Set')\n",
    "plt.xlabel('Pokemon')\n",
    "plt.ylabel('Number of Appearances')\n",
    "plt.xticks(fontsize=12.0)  # Rotate x-axis labels\n",
    "plt.legend()\n",
    "plt.show()"
   ]
  },
  {
   "cell_type": "markdown",
   "metadata": {},
   "source": [
    "**Training comparison: stratified vs non-stratified**\n",
    "\n",
    "We train both models to compare the impact of stratification:\n",
    "- **Loss function**: `BinaryCrossentropy(from_logits=True)` matches our subtraction architecture\n",
    "- **Epochs**: 100 with validation monitoring to track overfitting\n",
    "- **Expected outcome**: Stratified model should show better stability and generalization (as seen in README: ~59.9% vs ~55.9% accuracy)\n"
   ]
  },
  {
   "attachments": {},
   "cell_type": "markdown",
   "metadata": {},
   "source": [
    "#### Construindo o Modelo"
   ]
  },
  {
   "cell_type": "code",
   "execution_count": null,
   "metadata": {},
   "outputs": [],
   "source": [
    "judge = keras.Sequential([\n",
    "    keras.layers.StringLookup(vocabulary=vocabulary, mask_token=None),\n",
    "    keras.layers.Embedding(input_dim=len(vocabulary) + 1, output_dim=256, input_length=6),\n",
    "    keras.layers.GlobalAveragePooling1D(),\n",
    "    keras.layers.Dense(16, activation='relu', kernel_regularizer=keras.regularizers.l2(0.001)),\n",
    "    keras.layers.Dropout(0.1),\n",
    "    keras.layers.Dense(1)\n",
    "])\n",
    "\n",
    "t1 = keras.Input(shape=(6,), dtype='string')\n",
    "t2 = keras.Input(shape=(6,), dtype='string')\n",
    "\n",
    "s1 = judge(t1)\n",
    "s2 = judge(t2)\n",
    "\n",
    "d = keras.layers.Subtract()([s1, s2])\n",
    "\n",
    "model = keras.Model(inputs=[t1, t2], outputs=d)\n",
    "model_stratified = keras.Model(inputs=[t1, t2], outputs=d)"
   ]
  },
  {
   "cell_type": "code",
   "execution_count": null,
   "metadata": {},
   "outputs": [],
   "source": [
    "model.compile(\n",
    "    optimizer=\"adam\",\n",
    "    loss=keras.losses.BinaryCrossentropy(from_logits=True),\n",
    "    metrics=['accuracy']\n",
    ")\n",
    "\n",
    "model_stratified.compile(\n",
    "    optimizer=\"adam\",\n",
    "    loss=keras.losses.BinaryCrossentropy(from_logits=True),\n",
    "    metrics=['accuracy']\n",
    ")"
   ]
  },
  {
   "cell_type": "markdown",
   "metadata": {},
   "source": [
    "**Genetic algorithm demonstration:**\n",
    "\n",
    "Using the trained `judge` as a fitness function to evolve optimal team compositions. This showcases how the model can drive team optimization:\n",
    "\n",
    "- **Fitness**: Single team score from `judge.predict()`\n",
    "- **Gene space**: Integer indices from the vocabulary (converted via `StringLookup`)\n",
    "- **Evolution**: PyGAD mutates team compositions to maximize fitness\n",
    "\n",
    "While illustrative, this approach has limitations (only optimizes one team, ignores opponent adaptation) but demonstrates the integration between judge and genetic optimization mentioned in the README.\n"
   ]
  },
  {
   "cell_type": "code",
   "execution_count": null,
   "metadata": {},
   "outputs": [],
   "source": [
    "model.summary()"
   ]
  },
  {
   "cell_type": "code",
   "execution_count": null,
   "metadata": {},
   "outputs": [],
   "source": [
    "model_stratified.summary()"
   ]
  },
  {
   "attachments": {},
   "cell_type": "markdown",
   "metadata": {},
   "source": [
    "#### Treinando o Modelo e Avaliando\n",
    "\n",
    "Nesta etapa serão treinados dois modelos, um utilizando os dados originais e outro utilizando dados stratificados. Após o treinamento, os modelos serão avaliados e comparados."
   ]
  },
  {
   "cell_type": "code",
   "execution_count": null,
   "metadata": {},
   "outputs": [],
   "source": [
    "model_stratified.fit([X_train_p1_stratified, X_train_p2_stratified], y_train_stratified, epochs=100, verbose=1, batch_size=64, validation_split=0.2)\n",
    "model.fit([X_train_p1, X_train_p2], y_train, epochs=100, verbose=1, batch_size=64, validation_split=0.2)"
   ]
  },
  {
   "cell_type": "code",
   "execution_count": null,
   "metadata": {},
   "outputs": [],
   "source": [
    "model_stratified.evaluate([X_test_p1_stratified, X_test_p2_stratified], y_test_stratified, verbose=1)"
   ]
  },
  {
   "cell_type": "code",
   "execution_count": null,
   "metadata": {},
   "outputs": [],
   "source": [
    "model.evaluate([X_test_p1, X_test_p2], y_test, verbose=1)"
   ]
  },
  {
   "cell_type": "markdown",
   "metadata": {},
   "source": [
    "## Algoritmo genético"
   ]
  },
  {
   "cell_type": "code",
   "execution_count": null,
   "metadata": {},
   "outputs": [],
   "source": [
    "# Example of Judge prediction\n",
    "score  =  judge.predict([['Regieleki', 'Pelipper', 'Floatzel', 'Poliwhirl', 'Flamigo', 'Skiploom']])\n",
    "score[0][0]"
   ]
  },
  {
   "cell_type": "code",
   "execution_count": null,
   "metadata": {},
   "outputs": [],
   "source": [
    "#String to number\n",
    "lookup_layer = judge.get_layer(index=0)\n",
    "string_values = ['Regieleki', 'Pelipper', 'Floatzel', 'Poliwhirl', 'Flamigo', 'Skiploom']\n",
    "indices = lookup_layer(string_values)\n",
    "indices.numpy()"
   ]
  },
  {
   "cell_type": "code",
   "execution_count": null,
   "metadata": {},
   "outputs": [],
   "source": [
    "#Number to string\n",
    "inverse_lookup_layer = keras.layers.StringLookup(vocabulary=lookup_layer.get_vocabulary(), invert=True)\n",
    "string_values = inverse_lookup_layer(indices)\n",
    "string_values.numpy()[0].decode()"
   ]
  },
  {
   "cell_type": "code",
   "execution_count": null,
   "metadata": {},
   "outputs": [],
   "source": [
    "# Random sample from vocabulary\n",
    "import random\n",
    "\n",
    "random.sample(vocabulary, 6)"
   ]
  },
  {
   "cell_type": "code",
   "execution_count": null,
   "metadata": {},
   "outputs": [],
   "source": [
    "import pygad\n",
    "\n",
    "#fitness function\n",
    "def fitness_func(ga_instance, solution, solution_idx):\n",
    "   string_values = inverse_lookup_layer(solution).numpy()\n",
    "   string_values = list(map(lambda x : x.decode(), string_values))\n",
    "   score = judge.predict([string_values],verbose=0)\n",
    "   return score[0][0]\n",
    "\n",
    "# Generate a list of solutions\n",
    "pokemons = [lookup_layer(random.sample(vocabulary, 6)).numpy() for i in range(100)]\n",
    "\n",
    "# Create an instance of the GA class\n",
    "ga_instance = pygad.GA(num_generations=10,\n",
    "                     num_parents_mating=50,\n",
    "                     fitness_func=fitness_func,\n",
    "                     num_genes=6, \n",
    "                     gene_type=float,\n",
    "                     mutation_type=\"random\",\n",
    "                     mutation_num_genes=6,\n",
    "                     save_best_solutions=True,\n",
    "                     initial_population=pokemons)\n",
    "\n",
    "# Run the GA instance\n",
    "ga_instance.run()\n"
   ]
  },
  {
   "cell_type": "code",
   "execution_count": null,
   "metadata": {},
   "outputs": [],
   "source": [
    "best_solutions = ga_instance.best_solutions\n",
    "best_solutions_fit = ga_instance.best_solutions_fitness"
   ]
  },
  {
   "cell_type": "code",
   "execution_count": null,
   "metadata": {},
   "outputs": [],
   "source": [
    "print(best_solutions[0])\n",
    "print(best_solutions_fit)"
   ]
  },
  {
   "cell_type": "code",
   "execution_count": null,
   "metadata": {},
   "outputs": [],
   "source": [
    "for i in range(best_solutions.shape[0]):\n",
    "    string_values = inverse_lookup_layer(best_solutions[i]).numpy()\n",
    "    string_values = map(lambda x : x.decode(), string_values)\n",
    "    print(f\"Pokemons : {list(string_values)}, fit: {best_solutions_fit[i]}\")\n"
   ]
  },
  {
   "cell_type": "markdown",
   "metadata": {},
   "source": [
    "### Como o modelo pode ser melhorado?\n",
    "\n",
    "Durante o desenvolvimento do modelo, várias características que compõe um Pokémon foram abstraídas, sendo elas:\n",
    "\n",
    "- `Nature`: A natureza do Pokémon, que aumenta um atributo e diminui outro.\n",
    "\n",
    "- `Ability`: A habilidade do Pokémon, que pode alterar o funcionamento de alguns ataques.\n",
    "\n",
    "- `Item`: O item que o Pokémon está segurando, que pode alterar o funcionamento de alguns ataques.\n",
    "\n",
    "- `EVs`: Os EVs do Pokémon, que são pontos de atributos que podem ser distribuídos pelo jogador. Existem 510 EVs no total, sendo que cada atributo pode ter no máximo 252 EVs. Os EVs são:\n",
    "    \n",
    "    - `HP`: Pontos de vida.\n",
    "\n",
    "    - `Atk`: Ataque.\n",
    "\n",
    "    - `Def`: Defesa.\n",
    "\n",
    "    - `SpA`: Ataque especial.\n",
    "\n",
    "    - `SpD`: Defesa especial.\n",
    "\n",
    "    - `Spe`: Velocidade.\n",
    "\n",
    "- `IVs`: Os IVs do Pokémon, que são pontos de atributos que são distribuídos aleatoriamente quando o Pokémon é capturado. Existem 186 IVs no total, sendo que cada atributo pode ter no máximo 31 IVs. Os IVs são:\n",
    "        \n",
    "    - `HP`: Pontos de vida.\n",
    "\n",
    "    - `Atk`: Ataque.\n",
    "\n",
    "    - `Def`: Defesa.\n",
    "\n",
    "    - `SpA`: Ataque especial.\n",
    "\n",
    "    - `SpD`: Defesa especial.\n",
    "\n",
    "    - `Spe`: Velocidade.\n",
    "\n",
    "- `Moves`: Os ataques do Pokémon, que podem ser escolhidos pelo jogador. Existem mais de 900 ataques no total, sendo que cada Pokémon pode ter no máximo 4 ataques.\n",
    "\n",
    "\n",
    "Para que o modelo possa ser melhorado, é necessário que essas características sejam adicionadas, fazendo com que o _judge_ possa diferenciar Pokémons de mesmo nome, porém com características diferentes.\n"
   ]
  }
 ],
 "metadata": {
  "kernelspec": {
   "display_name": "Python 3",
   "language": "python",
   "name": "python3"
  },
  "language_info": {
   "codemirror_mode": {
    "name": "ipython",
    "version": 3
   },
   "file_extension": ".py",
   "mimetype": "text/x-python",
   "name": "python",
   "nbconvert_exporter": "python",
   "pygments_lexer": "ipython3",
   "version": "3.9.6"
  }
 },
 "nbformat": 4,
 "nbformat_minor": 2
}
